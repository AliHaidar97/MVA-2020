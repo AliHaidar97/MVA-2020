{
 "cells": [
  {
   "cell_type": "code",
   "execution_count": 217,
   "metadata": {},
   "outputs": [],
   "source": [
    "import numpy as np \n",
    "import pandas as pd\n",
    "import seaborn as sns\n",
    "from sklearn.ensemble import RandomForestClassifier\n",
    "from sklearn.metrics import accuracy_score\n",
    "from sklearn.model_selection import KFold\n",
    "from tqdm import tqdm\n",
    "sns.set()"
   ]
  },
  {
   "cell_type": "code",
   "execution_count": 218,
   "metadata": {},
   "outputs": [],
   "source": [
    "train = pd.read_csv(\"data/x_train.csv\")\n",
    "test = pd.read_csv(\"data/x_test.csv\")\n",
    "y_train = pd.read_csv(\"data/y_train.csv\")"
   ]
  },
  {
   "cell_type": "code",
   "execution_count": 219,
   "metadata": {},
   "outputs": [],
   "source": [
    "all = pd.concat([train,test])\n",
    "id_data = all[['ID','DATE','STOCK']]"
   ]
  },
  {
   "cell_type": "code",
   "execution_count": 220,
   "metadata": {},
   "outputs": [],
   "source": [
    "train = train.drop(['ID'],axis=1)\n",
    "test = test.drop(['ID'],axis=1)\n",
    "\n"
   ]
  },
  {
   "cell_type": "code",
   "execution_count": 221,
   "metadata": {},
   "outputs": [],
   "source": [
    "train = train[~train['DATE'].isnull()]"
   ]
  },
  {
   "cell_type": "code",
   "execution_count": 222,
   "metadata": {},
   "outputs": [
    {
     "data": {
      "text/plain": [
       "Index(['RET_1', 'VOLUME_1', 'RET_2', 'VOLUME_2', 'RET_3', 'VOLUME_3', 'RET_4',\n",
       "       'VOLUME_4', 'RET_5', 'VOLUME_5', 'RET_6', 'VOLUME_6', 'RET_7',\n",
       "       'VOLUME_7', 'RET_8', 'VOLUME_8', 'RET_9', 'VOLUME_9', 'RET_10',\n",
       "       'VOLUME_10', 'RET_11', 'VOLUME_11', 'RET_12', 'VOLUME_12', 'RET_13',\n",
       "       'VOLUME_13', 'RET_14', 'VOLUME_14', 'RET_15', 'VOLUME_15', 'RET_16',\n",
       "       'VOLUME_16', 'RET_17', 'VOLUME_17', 'RET_18', 'VOLUME_18', 'RET_19',\n",
       "       'VOLUME_19', 'RET_20', 'VOLUME_20'],\n",
       "      dtype='object')"
      ]
     },
     "execution_count": 222,
     "metadata": {},
     "output_type": "execute_result"
    }
   ],
   "source": [
    "train.columns[6:]"
   ]
  },
  {
   "attachments": {},
   "cell_type": "markdown",
   "metadata": {},
   "source": [
    "### Replace by the 0"
   ]
  },
  {
   "cell_type": "code",
   "execution_count": 223,
   "metadata": {},
   "outputs": [],
   "source": [
    "train = train.fillna(0.0)\n",
    "test = test.fillna(0.0)"
   ]
  },
  {
   "attachments": {},
   "cell_type": "markdown",
   "metadata": {},
   "source": [
    "### Add features"
   ]
  },
  {
   "cell_type": "code",
   "execution_count": 224,
   "metadata": {},
   "outputs": [],
   "source": [
    "filter = ['SECTOR', 'INDUSTRY_GROUP', 'INDUSTRY', 'SUB_INDUSTRY']\n",
    "\n",
    "def df_by(df, f):\n",
    "\n",
    "    df = df[['DATE'] + f + list(train.columns[6:])].groupby(['DATE'] + f).agg('mean').reset_index()\n",
    "    \n",
    "    new_c = []\n",
    "    for c in train.columns[6:]:\n",
    "        df[f[-1] + '#' + c] = df[c]\n",
    "        df = df.drop(c,axis=1)\n",
    "        \n",
    "    if('RET' in df.columns):\n",
    "        df = df.drop(['RET'],axis=1)\n",
    "    return df\n",
    "    \n"
   ]
  },
  {
   "cell_type": "code",
   "execution_count": 225,
   "metadata": {},
   "outputs": [],
   "source": [
    "train_m = train.copy()\n",
    "for i in range(1,len(filter)+1):\n",
    "    train_m = pd.merge(train_m, df_by(train.copy(),filter[:i]),left_on=['DATE'] + filter[:i], right_on = ['DATE'] + filter[:i])  \n",
    "    \n",
    "    \n",
    "test_m = test.copy()\n",
    "for i in range(1,len(filter)+1):\n",
    "    test_m = pd.merge(test_m, df_by(test.copy(),filter[:i]),left_on=['DATE'] + filter[:i], right_on = ['DATE'] + filter[:i])  "
   ]
  },
  {
   "attachments": {},
   "cell_type": "markdown",
   "metadata": {},
   "source": [
    "### Feature Selection"
   ]
  },
  {
   "cell_type": "code",
   "execution_count": 226,
   "metadata": {},
   "outputs": [],
   "source": [
    "def acc(features, train, y_train):\n",
    "    X_train = train[features]\n",
    "    y_train = train['RET']\n",
    "    # A quiet large number of trees with low depth to prevent overfits\n",
    "    rf_params = {\n",
    "    'n_estimators': 100,\n",
    "    'max_depth': 2**3,\n",
    "    'random_state': 0,\n",
    "    'n_jobs': -1\n",
    "    }\n",
    "\n",
    "    train_dates = train['DATE'].unique()\n",
    "    test_dates = test['DATE'].unique()\n",
    "\n",
    "    n_splits = 4\n",
    "    scores = []\n",
    "    models = []\n",
    "\n",
    "    splits = KFold(n_splits=n_splits, random_state=0,\n",
    "                shuffle=True).split(train_dates)\n",
    "\n",
    "    for i, (local_train_dates_ids, local_test_dates_ids) in enumerate(splits):\n",
    "        local_train_dates = train_dates[local_train_dates_ids]\n",
    "        local_test_dates = train_dates[local_test_dates_ids]\n",
    "\n",
    "        local_train_ids = train['DATE'].isin(local_train_dates)\n",
    "        local_test_ids = train['DATE'].isin(local_test_dates)\n",
    "\n",
    "        X_local_train = X_train.loc[local_train_ids]\n",
    "        y_local_train = y_train.loc[local_train_ids]\n",
    "        X_local_test = X_train.loc[local_test_ids]\n",
    "        y_local_test = y_train.loc[local_test_ids]\n",
    "\n",
    "        X_local_train = X_local_train.fillna(0)\n",
    "        X_local_test = X_local_test.fillna(0)\n",
    "\n",
    "        model = RandomForestClassifier(**rf_params)\n",
    "        model.fit(X_local_train, y_local_train)\n",
    "\n",
    "        y_local_pred = model.predict_proba(X_local_test)[:, 1]\n",
    "\n",
    "        sub = train.loc[local_test_ids].copy()\n",
    "        sub['pred'] = y_local_pred\n",
    "        y_local_pred = sub.groupby('DATE')['pred'].transform(lambda x: x > x.median()).values\n",
    "\n",
    "        models.append(model)\n",
    "        score = accuracy_score(y_local_test, y_local_pred)\n",
    "        scores.append(score)\n",
    " \n",
    "    mean = np.mean(scores)\n",
    "    std = np.std(scores)*100\n",
    "    u = (mean + std)\n",
    "    l = (mean - std)\n",
    "    \n",
    "    return mean"
   ]
  },
  {
   "cell_type": "code",
   "execution_count": 227,
   "metadata": {},
   "outputs": [],
   "source": [
    "n_shifts = 5  # If you don't want all the shifts to reduce noise\n",
    "features = ['RET_%d' % (i + 1) for i in range(n_shifts)]\n",
    "features += ['VOLUME_%d' % (i + 1) for i in range(n_shifts)]\n",
    "features.append('SECTOR#RET_1')"
   ]
  },
  {
   "cell_type": "code",
   "execution_count": 228,
   "metadata": {},
   "outputs": [
    {
     "data": {
      "text/html": [
       "<div>\n",
       "<style scoped>\n",
       "    .dataframe tbody tr th:only-of-type {\n",
       "        vertical-align: middle;\n",
       "    }\n",
       "\n",
       "    .dataframe tbody tr th {\n",
       "        vertical-align: top;\n",
       "    }\n",
       "\n",
       "    .dataframe thead th {\n",
       "        text-align: right;\n",
       "    }\n",
       "</style>\n",
       "<table border=\"1\" class=\"dataframe\">\n",
       "  <thead>\n",
       "    <tr style=\"text-align: right;\">\n",
       "      <th></th>\n",
       "      <th>ID</th>\n",
       "      <th>DATE</th>\n",
       "      <th>STOCK</th>\n",
       "    </tr>\n",
       "  </thead>\n",
       "  <tbody>\n",
       "    <tr>\n",
       "      <th>0</th>\n",
       "      <td>0</td>\n",
       "      <td>0</td>\n",
       "      <td>2</td>\n",
       "    </tr>\n",
       "    <tr>\n",
       "      <th>1</th>\n",
       "      <td>1</td>\n",
       "      <td>0</td>\n",
       "      <td>3</td>\n",
       "    </tr>\n",
       "    <tr>\n",
       "      <th>2</th>\n",
       "      <td>2</td>\n",
       "      <td>0</td>\n",
       "      <td>4</td>\n",
       "    </tr>\n",
       "    <tr>\n",
       "      <th>3</th>\n",
       "      <td>3</td>\n",
       "      <td>0</td>\n",
       "      <td>8</td>\n",
       "    </tr>\n",
       "    <tr>\n",
       "      <th>4</th>\n",
       "      <td>4</td>\n",
       "      <td>0</td>\n",
       "      <td>14</td>\n",
       "    </tr>\n",
       "    <tr>\n",
       "      <th>...</th>\n",
       "      <td>...</td>\n",
       "      <td>...</td>\n",
       "      <td>...</td>\n",
       "    </tr>\n",
       "    <tr>\n",
       "      <th>198424</th>\n",
       "      <td>617019</td>\n",
       "      <td>222</td>\n",
       "      <td>5707</td>\n",
       "    </tr>\n",
       "    <tr>\n",
       "      <th>198425</th>\n",
       "      <td>617020</td>\n",
       "      <td>222</td>\n",
       "      <td>5710</td>\n",
       "    </tr>\n",
       "    <tr>\n",
       "      <th>198426</th>\n",
       "      <td>617021</td>\n",
       "      <td>222</td>\n",
       "      <td>5714</td>\n",
       "    </tr>\n",
       "    <tr>\n",
       "      <th>198427</th>\n",
       "      <td>617022</td>\n",
       "      <td>222</td>\n",
       "      <td>5715</td>\n",
       "    </tr>\n",
       "    <tr>\n",
       "      <th>198428</th>\n",
       "      <td>617023</td>\n",
       "      <td>222</td>\n",
       "      <td>5716</td>\n",
       "    </tr>\n",
       "  </tbody>\n",
       "</table>\n",
       "<p>617024 rows × 3 columns</p>\n",
       "</div>"
      ],
      "text/plain": [
       "            ID  DATE  STOCK\n",
       "0            0     0      2\n",
       "1            1     0      3\n",
       "2            2     0      4\n",
       "3            3     0      8\n",
       "4            4     0     14\n",
       "...        ...   ...    ...\n",
       "198424  617019   222   5707\n",
       "198425  617020   222   5710\n",
       "198426  617021   222   5714\n",
       "198427  617022   222   5715\n",
       "198428  617023   222   5716\n",
       "\n",
       "[617024 rows x 3 columns]"
      ]
     },
     "execution_count": 228,
     "metadata": {},
     "output_type": "execute_result"
    }
   ],
   "source": [
    "id_data"
   ]
  },
  {
   "cell_type": "code",
   "execution_count": 229,
   "metadata": {},
   "outputs": [],
   "source": [
    "dict_id = {}\n",
    "for i in id_data.values:\n",
    "    if(i[1] not in dict_id):\n",
    "        dict_id[i[1]] = dict()\n",
    "    dict_id[i[1]][i[2]] = i[0]"
   ]
  },
  {
   "cell_type": "code",
   "execution_count": 230,
   "metadata": {},
   "outputs": [],
   "source": [
    "train_m['ID'] = train_m.apply(lambda x: dict_id[x['DATE']][x['STOCK']],axis=1)\n",
    "train_m = pd.merge(train_m, y_train, on='ID')"
   ]
  },
  {
   "cell_type": "code",
   "execution_count": 234,
   "metadata": {},
   "outputs": [
    {
     "name": "stderr",
     "output_type": "stream",
     "text": [
      "  0%|          | 0/202 [00:00<?, ?it/s]"
     ]
    }
   ],
   "source": [
    "all_features = train_m.columns[6:]\n",
    "best_score = 0.514\n",
    "\n",
    "for f in tqdm(all_features):\n",
    "   \n",
    "    if(f in features):\n",
    "        continue\n",
    "    features.append(f)\n",
    "    score = acc(features, train_m, y_train)\n",
    "    print(score)\n",
    "    if(score > best_score + 0.002):\n",
    "        best_score = score\n",
    "        print(\"best_score\",f)\n",
    "    else:\n",
    "        features = features[:-1]\n",
    "    "
   ]
  },
  {
   "cell_type": "code",
   "execution_count": null,
   "metadata": {},
   "outputs": [],
   "source": [
    "features"
   ]
  },
  {
   "cell_type": "code",
   "execution_count": null,
   "metadata": {},
   "outputs": [],
   "source": [
    "all_features = train_m.columns[6:]\n",
    "best_score = 0.514\n",
    "\n",
    "for f in tqdm(all_features):\n",
    "   \n",
    "    if(f in features):\n",
    "        continue\n",
    "    features.append(f)\n",
    "    score = acc(features, train_m, y_train)\n",
    "    print(score)\n",
    "    if(score > best_score + 0.001):\n",
    "        best_score = score\n",
    "        print(\"best_score\",f)\n",
    "    else:\n",
    "        features = features[:-1]\n",
    "    "
   ]
  },
  {
   "cell_type": "code",
   "execution_count": null,
   "metadata": {},
   "outputs": [],
   "source": [
    "features"
   ]
  }
 ],
 "metadata": {
  "kernelspec": {
   "display_name": "Python 3",
   "language": "python",
   "name": "python3"
  },
  "language_info": {
   "codemirror_mode": {
    "name": "ipython",
    "version": 3
   },
   "file_extension": ".py",
   "mimetype": "text/x-python",
   "name": "python",
   "nbconvert_exporter": "python",
   "pygments_lexer": "ipython3",
   "version": "3.10.11"
  },
  "orig_nbformat": 4
 },
 "nbformat": 4,
 "nbformat_minor": 2
}
